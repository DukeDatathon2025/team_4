{
 "cells": [
  {
   "cell_type": "code",
   "execution_count": null,
   "id": "63c6163d",
   "metadata": {},
   "outputs": [],
   "source": [
    "### MAIN CODE"
   ]
  },
  {
   "cell_type": "code",
   "execution_count": 70,
   "id": "58bded1b",
   "metadata": {},
   "outputs": [],
   "source": [
    "import pandas as pd\n",
    "\n",
    "df = pd.read_csv('finaltable1.csv')\n"
   ]
  },
  {
   "cell_type": "code",
   "execution_count": 71,
   "id": "469fc72d",
   "metadata": {},
   "outputs": [
    {
     "data": {
      "text/html": [
       "<div>\n",
       "<style scoped>\n",
       "    .dataframe tbody tr th:only-of-type {\n",
       "        vertical-align: middle;\n",
       "    }\n",
       "\n",
       "    .dataframe tbody tr th {\n",
       "        vertical-align: top;\n",
       "    }\n",
       "\n",
       "    .dataframe thead th {\n",
       "        text-align: right;\n",
       "    }\n",
       "</style>\n",
       "<table border=\"1\" class=\"dataframe\">\n",
       "  <thead>\n",
       "    <tr style=\"text-align: right;\">\n",
       "      <th></th>\n",
       "      <th>patientunitstayid</th>\n",
       "      <th>tf_offset</th>\n",
       "      <th>tf_postadmday</th>\n",
       "      <th>base_hb</th>\n",
       "      <th>base_lactate</th>\n",
       "      <th>patienthealthsystemstayid</th>\n",
       "      <th>gender</th>\n",
       "      <th>age</th>\n",
       "      <th>agegroup</th>\n",
       "      <th>ethnicity</th>\n",
       "      <th>...</th>\n",
       "      <th>post_sf_auc</th>\n",
       "      <th>post_sf_avg_auc</th>\n",
       "      <th>post_sf_time_span</th>\n",
       "      <th>pre_sf_auc</th>\n",
       "      <th>pre_sf_avg</th>\n",
       "      <th>pre_sf_count</th>\n",
       "      <th>pre_method</th>\n",
       "      <th>auc_change</th>\n",
       "      <th>BMI</th>\n",
       "      <th>base_hb_category</th>\n",
       "    </tr>\n",
       "  </thead>\n",
       "  <tbody>\n",
       "    <tr>\n",
       "      <th>0</th>\n",
       "      <td>144297</td>\n",
       "      <td>11411</td>\n",
       "      <td>7.9</td>\n",
       "      <td>7.4</td>\n",
       "      <td>NaN</td>\n",
       "      <td>131348</td>\n",
       "      <td>Male</td>\n",
       "      <td>74</td>\n",
       "      <td>61-80</td>\n",
       "      <td>African American</td>\n",
       "      <td>...</td>\n",
       "      <td>1957.486111</td>\n",
       "      <td>164.725339</td>\n",
       "      <td>11.883333</td>\n",
       "      <td>1841.041667</td>\n",
       "      <td>165.095238</td>\n",
       "      <td>35</td>\n",
       "      <td>auc_method</td>\n",
       "      <td>116.444444</td>\n",
       "      <td>38.111136</td>\n",
       "      <td>8-Jul</td>\n",
       "    </tr>\n",
       "    <tr>\n",
       "      <th>1</th>\n",
       "      <td>145715</td>\n",
       "      <td>13627</td>\n",
       "      <td>9.5</td>\n",
       "      <td>8.3</td>\n",
       "      <td>1.4</td>\n",
       "      <td>132434</td>\n",
       "      <td>Male</td>\n",
       "      <td>77</td>\n",
       "      <td>61-80</td>\n",
       "      <td>African American</td>\n",
       "      <td>...</td>\n",
       "      <td>1631.702381</td>\n",
       "      <td>137.890342</td>\n",
       "      <td>11.833333</td>\n",
       "      <td>1643.761905</td>\n",
       "      <td>138.979592</td>\n",
       "      <td>49</td>\n",
       "      <td>auc_method</td>\n",
       "      <td>-12.059524</td>\n",
       "      <td>25.287409</td>\n",
       "      <td>9-Aug</td>\n",
       "    </tr>\n",
       "    <tr>\n",
       "      <th>2</th>\n",
       "      <td>163555</td>\n",
       "      <td>24095</td>\n",
       "      <td>16.7</td>\n",
       "      <td>6.7</td>\n",
       "      <td>0.7</td>\n",
       "      <td>146216</td>\n",
       "      <td>Male</td>\n",
       "      <td>71</td>\n",
       "      <td>61-80</td>\n",
       "      <td>Caucasian</td>\n",
       "      <td>...</td>\n",
       "      <td>2373.733333</td>\n",
       "      <td>197.811111</td>\n",
       "      <td>12.000000</td>\n",
       "      <td>2350.000000</td>\n",
       "      <td>200.000000</td>\n",
       "      <td>51</td>\n",
       "      <td>auc_method</td>\n",
       "      <td>23.733333</td>\n",
       "      <td>26.160256</td>\n",
       "      <td>7-Jun</td>\n",
       "    </tr>\n",
       "    <tr>\n",
       "      <th>3</th>\n",
       "      <td>168097</td>\n",
       "      <td>1138</td>\n",
       "      <td>0.8</td>\n",
       "      <td>7.4</td>\n",
       "      <td>NaN</td>\n",
       "      <td>149743</td>\n",
       "      <td>Female</td>\n",
       "      <td>69</td>\n",
       "      <td>61-80</td>\n",
       "      <td>Caucasian</td>\n",
       "      <td>...</td>\n",
       "      <td>3268.515625</td>\n",
       "      <td>297.137784</td>\n",
       "      <td>11.000000</td>\n",
       "      <td>3452.343750</td>\n",
       "      <td>302.083333</td>\n",
       "      <td>18</td>\n",
       "      <td>auc_method</td>\n",
       "      <td>-183.828125</td>\n",
       "      <td>16.685350</td>\n",
       "      <td>8-Jul</td>\n",
       "    </tr>\n",
       "    <tr>\n",
       "      <th>4</th>\n",
       "      <td>171083</td>\n",
       "      <td>5592</td>\n",
       "      <td>3.9</td>\n",
       "      <td>7.0</td>\n",
       "      <td>NaN</td>\n",
       "      <td>152033</td>\n",
       "      <td>Male</td>\n",
       "      <td>65</td>\n",
       "      <td>61-80</td>\n",
       "      <td>Caucasian</td>\n",
       "      <td>...</td>\n",
       "      <td>2852.812500</td>\n",
       "      <td>292.596154</td>\n",
       "      <td>9.750000</td>\n",
       "      <td>3043.776042</td>\n",
       "      <td>303.613281</td>\n",
       "      <td>32</td>\n",
       "      <td>auc_method</td>\n",
       "      <td>-190.963542</td>\n",
       "      <td>48.608097</td>\n",
       "      <td>8-Jul</td>\n",
       "    </tr>\n",
       "  </tbody>\n",
       "</table>\n",
       "<p>5 rows × 61 columns</p>\n",
       "</div>"
      ],
      "text/plain": [
       "   patientunitstayid  tf_offset  tf_postadmday  base_hb  base_lactate  \\\n",
       "0             144297      11411            7.9      7.4           NaN   \n",
       "1             145715      13627            9.5      8.3           1.4   \n",
       "2             163555      24095           16.7      6.7           0.7   \n",
       "3             168097       1138            0.8      7.4           NaN   \n",
       "4             171083       5592            3.9      7.0           NaN   \n",
       "\n",
       "   patienthealthsystemstayid  gender  age agegroup         ethnicity  ...  \\\n",
       "0                     131348    Male   74    61-80  African American  ...   \n",
       "1                     132434    Male   77    61-80  African American  ...   \n",
       "2                     146216    Male   71    61-80         Caucasian  ...   \n",
       "3                     149743  Female   69    61-80         Caucasian  ...   \n",
       "4                     152033    Male   65    61-80         Caucasian  ...   \n",
       "\n",
       "   post_sf_auc  post_sf_avg_auc post_sf_time_span   pre_sf_auc  pre_sf_avg  \\\n",
       "0  1957.486111       164.725339         11.883333  1841.041667  165.095238   \n",
       "1  1631.702381       137.890342         11.833333  1643.761905  138.979592   \n",
       "2  2373.733333       197.811111         12.000000  2350.000000  200.000000   \n",
       "3  3268.515625       297.137784         11.000000  3452.343750  302.083333   \n",
       "4  2852.812500       292.596154          9.750000  3043.776042  303.613281   \n",
       "\n",
       "  pre_sf_count  pre_method  auc_change        BMI  base_hb_category  \n",
       "0           35  auc_method  116.444444  38.111136             8-Jul  \n",
       "1           49  auc_method  -12.059524  25.287409             9-Aug  \n",
       "2           51  auc_method   23.733333  26.160256             7-Jun  \n",
       "3           18  auc_method -183.828125  16.685350             8-Jul  \n",
       "4           32  auc_method -190.963542  48.608097             8-Jul  \n",
       "\n",
       "[5 rows x 61 columns]"
      ]
     },
     "execution_count": 71,
     "metadata": {},
     "output_type": "execute_result"
    }
   ],
   "source": [
    "df.head()"
   ]
  },
  {
   "cell_type": "code",
   "execution_count": 73,
   "id": "7cf0ecbf",
   "metadata": {},
   "outputs": [
    {
     "name": "stdout",
     "output_type": "stream",
     "text": [
      "['patientunitstayid', 'tf_offset', 'tf_postadmday', 'base_hb', 'base_lactate', 'patienthealthsystemstayid', 'gender', 'age', 'agegroup', 'ethnicity', 'hospitalid', 'admissionheight', 'hospitaladmitsource', 'hospitaldischargeyear', 'hospitaldischargeoffset', 'hospitaldischargelocation', 'hospitaldischargestatus', 'unittype', 'unitadmitsource', 'unitvisitnumber', 'unitstaytype', 'admissionweight', 'dischargeweight', 'unitdischargestatus', 'final_charlson_score', 'chartoffset', 'heartrate', 'respiratoryrate', 'spo2', 'SBP', 'DBP', 'MBP', 'temperature', 'pre_o2_device', 'post_worst_o2_device', 'o2_device_change', 'base_fio2', 'time_from_tf', 'prepost_tf', 'sf_ratio', 'sf_ratio_category', 'sepsis', 'apachescore', 'chronically_hypoxic', 'post_tf_spo2count', 'pre_tf_spo2count', 'num_vaso', 'vaso_yn', 'avg_sf_post', 'avg_sf_pre', 'sf_change', 'post_sf_auc', 'post_sf_avg_auc', 'post_sf_time_span', 'pre_sf_auc', 'pre_sf_avg', 'pre_sf_count', 'pre_method', 'auc_change', 'BMI', 'base_hb_category']\n"
     ]
    }
   ],
   "source": [
    "print(df.columns.tolist())\n"
   ]
  },
  {
   "cell_type": "code",
   "execution_count": 77,
   "id": "aa5952f5",
   "metadata": {},
   "outputs": [],
   "source": [
    "df2 = df[['age', 'ethnicity', 'gender', 'apachescore', 'chronically_hypoxic', \n",
    "         'base_fio2', 'avg_sf_pre','auc_change', 'hospitaldischargestatus', 'sepsis', 'final_charlson_score', 'vaso_yn', 'base_hb', 'base_lactate']].copy()\n",
    "\n",
    "##'o2_device_group'\n",
    "##'los_minutes'"
   ]
  },
  {
   "cell_type": "code",
   "execution_count": 79,
   "id": "c9d38289",
   "metadata": {},
   "outputs": [
    {
     "data": {
      "text/html": [
       "<div>\n",
       "<style scoped>\n",
       "    .dataframe tbody tr th:only-of-type {\n",
       "        vertical-align: middle;\n",
       "    }\n",
       "\n",
       "    .dataframe tbody tr th {\n",
       "        vertical-align: top;\n",
       "    }\n",
       "\n",
       "    .dataframe thead th {\n",
       "        text-align: right;\n",
       "    }\n",
       "</style>\n",
       "<table border=\"1\" class=\"dataframe\">\n",
       "  <thead>\n",
       "    <tr style=\"text-align: right;\">\n",
       "      <th></th>\n",
       "      <th>age</th>\n",
       "      <th>ethnicity</th>\n",
       "      <th>gender</th>\n",
       "      <th>apachescore</th>\n",
       "      <th>chronically_hypoxic</th>\n",
       "      <th>base_fio2</th>\n",
       "      <th>avg_sf_pre</th>\n",
       "      <th>auc_change</th>\n",
       "      <th>hospitaldischargestatus</th>\n",
       "      <th>sepsis</th>\n",
       "      <th>final_charlson_score</th>\n",
       "      <th>vaso_yn</th>\n",
       "      <th>base_hb</th>\n",
       "      <th>base_lactate</th>\n",
       "    </tr>\n",
       "  </thead>\n",
       "  <tbody>\n",
       "    <tr>\n",
       "      <th>0</th>\n",
       "      <td>74</td>\n",
       "      <td>African American</td>\n",
       "      <td>Male</td>\n",
       "      <td>72.0</td>\n",
       "      <td>0</td>\n",
       "      <td>60</td>\n",
       "      <td>165.095238</td>\n",
       "      <td>116.444444</td>\n",
       "      <td>Alive</td>\n",
       "      <td>0</td>\n",
       "      <td>8</td>\n",
       "      <td>0</td>\n",
       "      <td>7.4</td>\n",
       "      <td>NaN</td>\n",
       "    </tr>\n",
       "    <tr>\n",
       "      <th>1</th>\n",
       "      <td>77</td>\n",
       "      <td>African American</td>\n",
       "      <td>Male</td>\n",
       "      <td>50.0</td>\n",
       "      <td>0</td>\n",
       "      <td>70</td>\n",
       "      <td>138.979592</td>\n",
       "      <td>-12.059524</td>\n",
       "      <td>Expired</td>\n",
       "      <td>0</td>\n",
       "      <td>5</td>\n",
       "      <td>0</td>\n",
       "      <td>8.3</td>\n",
       "      <td>1.4</td>\n",
       "    </tr>\n",
       "    <tr>\n",
       "      <th>2</th>\n",
       "      <td>71</td>\n",
       "      <td>Caucasian</td>\n",
       "      <td>Male</td>\n",
       "      <td>55.0</td>\n",
       "      <td>0</td>\n",
       "      <td>50</td>\n",
       "      <td>200.000000</td>\n",
       "      <td>23.733333</td>\n",
       "      <td>Alive</td>\n",
       "      <td>0</td>\n",
       "      <td>6</td>\n",
       "      <td>0</td>\n",
       "      <td>6.7</td>\n",
       "      <td>0.7</td>\n",
       "    </tr>\n",
       "    <tr>\n",
       "      <th>3</th>\n",
       "      <td>69</td>\n",
       "      <td>Caucasian</td>\n",
       "      <td>Female</td>\n",
       "      <td>37.0</td>\n",
       "      <td>0</td>\n",
       "      <td>32</td>\n",
       "      <td>302.083333</td>\n",
       "      <td>-183.828125</td>\n",
       "      <td>Alive</td>\n",
       "      <td>0</td>\n",
       "      <td>3</td>\n",
       "      <td>0</td>\n",
       "      <td>7.4</td>\n",
       "      <td>NaN</td>\n",
       "    </tr>\n",
       "    <tr>\n",
       "      <th>4</th>\n",
       "      <td>65</td>\n",
       "      <td>Caucasian</td>\n",
       "      <td>Male</td>\n",
       "      <td>73.0</td>\n",
       "      <td>0</td>\n",
       "      <td>32</td>\n",
       "      <td>303.613281</td>\n",
       "      <td>-190.963542</td>\n",
       "      <td>Alive</td>\n",
       "      <td>0</td>\n",
       "      <td>6</td>\n",
       "      <td>0</td>\n",
       "      <td>7.0</td>\n",
       "      <td>NaN</td>\n",
       "    </tr>\n",
       "  </tbody>\n",
       "</table>\n",
       "</div>"
      ],
      "text/plain": [
       "   age         ethnicity  gender  apachescore  chronically_hypoxic  base_fio2  \\\n",
       "0   74  African American    Male         72.0                    0         60   \n",
       "1   77  African American    Male         50.0                    0         70   \n",
       "2   71         Caucasian    Male         55.0                    0         50   \n",
       "3   69         Caucasian  Female         37.0                    0         32   \n",
       "4   65         Caucasian    Male         73.0                    0         32   \n",
       "\n",
       "   avg_sf_pre  auc_change hospitaldischargestatus  sepsis  \\\n",
       "0  165.095238  116.444444                   Alive       0   \n",
       "1  138.979592  -12.059524                 Expired       0   \n",
       "2  200.000000   23.733333                   Alive       0   \n",
       "3  302.083333 -183.828125                   Alive       0   \n",
       "4  303.613281 -190.963542                   Alive       0   \n",
       "\n",
       "   final_charlson_score  vaso_yn  base_hb  base_lactate  \n",
       "0                     8        0      7.4           NaN  \n",
       "1                     5        0      8.3           1.4  \n",
       "2                     6        0      6.7           0.7  \n",
       "3                     3        0      7.4           NaN  \n",
       "4                     6        0      7.0           NaN  "
      ]
     },
     "execution_count": 79,
     "metadata": {},
     "output_type": "execute_result"
    }
   ],
   "source": [
    "df2.head()"
   ]
  },
  {
   "cell_type": "code",
   "execution_count": 80,
   "id": "3c6823e5",
   "metadata": {},
   "outputs": [
    {
     "data": {
      "text/plain": [
       "age                          int64\n",
       "ethnicity                   object\n",
       "gender                      object\n",
       "apachescore                float64\n",
       "chronically_hypoxic          int64\n",
       "base_fio2                    int64\n",
       "avg_sf_pre                 float64\n",
       "auc_change                 float64\n",
       "hospitaldischargestatus     object\n",
       "sepsis                       int64\n",
       "final_charlson_score         int64\n",
       "vaso_yn                      int64\n",
       "base_hb                    float64\n",
       "base_lactate               float64\n",
       "dtype: object"
      ]
     },
     "execution_count": 80,
     "metadata": {},
     "output_type": "execute_result"
    }
   ],
   "source": [
    "df2.dtypes"
   ]
  },
  {
   "cell_type": "code",
   "execution_count": 81,
   "id": "c538ab28",
   "metadata": {},
   "outputs": [],
   "source": [
    "df2['age'] = df2['age'].astype(str)\n",
    "\n",
    "df2['age'] = df2['age'].str.strip()\n",
    "\n",
    "df2['age'] = df2['age'].str.replace('> *89', '89', regex=True)\n",
    "\n",
    "df2['age'] = pd.to_numeric(df2['age'], errors='coerce')\n",
    "\n",
    "df2['age'] = df2['age'].astype(int)\n"
   ]
  },
  {
   "cell_type": "code",
   "execution_count": 82,
   "id": "64d7af20",
   "metadata": {},
   "outputs": [
    {
     "data": {
      "text/plain": [
       "age                          int32\n",
       "ethnicity                   object\n",
       "gender                      object\n",
       "apachescore                float64\n",
       "chronically_hypoxic          int64\n",
       "base_fio2                    int64\n",
       "avg_sf_pre                 float64\n",
       "auc_change                 float64\n",
       "hospitaldischargestatus     object\n",
       "sepsis                       int64\n",
       "final_charlson_score         int64\n",
       "vaso_yn                      int64\n",
       "base_hb                    float64\n",
       "base_lactate               float64\n",
       "dtype: object"
      ]
     },
     "execution_count": 82,
     "metadata": {},
     "output_type": "execute_result"
    }
   ],
   "source": [
    "df2.dtypes"
   ]
  },
  {
   "cell_type": "code",
   "execution_count": 83,
   "id": "a735b81b",
   "metadata": {},
   "outputs": [
    {
     "data": {
      "text/plain": [
       "array(['Alive', 'Expired'], dtype=object)"
      ]
     },
     "execution_count": 83,
     "metadata": {},
     "output_type": "execute_result"
    }
   ],
   "source": [
    "df2['hospitaldischargestatus'].unique()"
   ]
  },
  {
   "cell_type": "code",
   "execution_count": 84,
   "id": "0c790c16",
   "metadata": {},
   "outputs": [
    {
     "data": {
      "text/plain": [
       "0"
      ]
     },
     "execution_count": 84,
     "metadata": {},
     "output_type": "execute_result"
    }
   ],
   "source": [
    "df2['hospitaldischargestatus'].isna().sum()\n"
   ]
  },
  {
   "cell_type": "code",
   "execution_count": 85,
   "id": "73c0cc3b",
   "metadata": {},
   "outputs": [],
   "source": [
    "df3 = df2.dropna(subset=['hospitaldischargestatus'])\n"
   ]
  },
  {
   "cell_type": "code",
   "execution_count": 86,
   "id": "ae398753",
   "metadata": {},
   "outputs": [
    {
     "data": {
      "text/html": [
       "<div>\n",
       "<style scoped>\n",
       "    .dataframe tbody tr th:only-of-type {\n",
       "        vertical-align: middle;\n",
       "    }\n",
       "\n",
       "    .dataframe tbody tr th {\n",
       "        vertical-align: top;\n",
       "    }\n",
       "\n",
       "    .dataframe thead th {\n",
       "        text-align: right;\n",
       "    }\n",
       "</style>\n",
       "<table border=\"1\" class=\"dataframe\">\n",
       "  <thead>\n",
       "    <tr style=\"text-align: right;\">\n",
       "      <th></th>\n",
       "      <th>age</th>\n",
       "      <th>ethnicity</th>\n",
       "      <th>gender</th>\n",
       "      <th>apachescore</th>\n",
       "      <th>chronically_hypoxic</th>\n",
       "      <th>base_fio2</th>\n",
       "      <th>avg_sf_pre</th>\n",
       "      <th>auc_change</th>\n",
       "      <th>hospitaldischargestatus</th>\n",
       "      <th>sepsis</th>\n",
       "      <th>final_charlson_score</th>\n",
       "      <th>vaso_yn</th>\n",
       "      <th>base_hb</th>\n",
       "      <th>base_lactate</th>\n",
       "    </tr>\n",
       "  </thead>\n",
       "  <tbody>\n",
       "    <tr>\n",
       "      <th>0</th>\n",
       "      <td>74</td>\n",
       "      <td>African American</td>\n",
       "      <td>Male</td>\n",
       "      <td>72.0</td>\n",
       "      <td>0</td>\n",
       "      <td>60</td>\n",
       "      <td>165.095238</td>\n",
       "      <td>116.444444</td>\n",
       "      <td>Alive</td>\n",
       "      <td>0</td>\n",
       "      <td>8</td>\n",
       "      <td>0</td>\n",
       "      <td>7.4</td>\n",
       "      <td>NaN</td>\n",
       "    </tr>\n",
       "    <tr>\n",
       "      <th>1</th>\n",
       "      <td>77</td>\n",
       "      <td>African American</td>\n",
       "      <td>Male</td>\n",
       "      <td>50.0</td>\n",
       "      <td>0</td>\n",
       "      <td>70</td>\n",
       "      <td>138.979592</td>\n",
       "      <td>-12.059524</td>\n",
       "      <td>Expired</td>\n",
       "      <td>0</td>\n",
       "      <td>5</td>\n",
       "      <td>0</td>\n",
       "      <td>8.3</td>\n",
       "      <td>1.4</td>\n",
       "    </tr>\n",
       "    <tr>\n",
       "      <th>2</th>\n",
       "      <td>71</td>\n",
       "      <td>Caucasian</td>\n",
       "      <td>Male</td>\n",
       "      <td>55.0</td>\n",
       "      <td>0</td>\n",
       "      <td>50</td>\n",
       "      <td>200.000000</td>\n",
       "      <td>23.733333</td>\n",
       "      <td>Alive</td>\n",
       "      <td>0</td>\n",
       "      <td>6</td>\n",
       "      <td>0</td>\n",
       "      <td>6.7</td>\n",
       "      <td>0.7</td>\n",
       "    </tr>\n",
       "    <tr>\n",
       "      <th>3</th>\n",
       "      <td>69</td>\n",
       "      <td>Caucasian</td>\n",
       "      <td>Female</td>\n",
       "      <td>37.0</td>\n",
       "      <td>0</td>\n",
       "      <td>32</td>\n",
       "      <td>302.083333</td>\n",
       "      <td>-183.828125</td>\n",
       "      <td>Alive</td>\n",
       "      <td>0</td>\n",
       "      <td>3</td>\n",
       "      <td>0</td>\n",
       "      <td>7.4</td>\n",
       "      <td>NaN</td>\n",
       "    </tr>\n",
       "    <tr>\n",
       "      <th>4</th>\n",
       "      <td>65</td>\n",
       "      <td>Caucasian</td>\n",
       "      <td>Male</td>\n",
       "      <td>73.0</td>\n",
       "      <td>0</td>\n",
       "      <td>32</td>\n",
       "      <td>303.613281</td>\n",
       "      <td>-190.963542</td>\n",
       "      <td>Alive</td>\n",
       "      <td>0</td>\n",
       "      <td>6</td>\n",
       "      <td>0</td>\n",
       "      <td>7.0</td>\n",
       "      <td>NaN</td>\n",
       "    </tr>\n",
       "  </tbody>\n",
       "</table>\n",
       "</div>"
      ],
      "text/plain": [
       "   age         ethnicity  gender  apachescore  chronically_hypoxic  base_fio2  \\\n",
       "0   74  African American    Male         72.0                    0         60   \n",
       "1   77  African American    Male         50.0                    0         70   \n",
       "2   71         Caucasian    Male         55.0                    0         50   \n",
       "3   69         Caucasian  Female         37.0                    0         32   \n",
       "4   65         Caucasian    Male         73.0                    0         32   \n",
       "\n",
       "   avg_sf_pre  auc_change hospitaldischargestatus  sepsis  \\\n",
       "0  165.095238  116.444444                   Alive       0   \n",
       "1  138.979592  -12.059524                 Expired       0   \n",
       "2  200.000000   23.733333                   Alive       0   \n",
       "3  302.083333 -183.828125                   Alive       0   \n",
       "4  303.613281 -190.963542                   Alive       0   \n",
       "\n",
       "   final_charlson_score  vaso_yn  base_hb  base_lactate  \n",
       "0                     8        0      7.4           NaN  \n",
       "1                     5        0      8.3           1.4  \n",
       "2                     6        0      6.7           0.7  \n",
       "3                     3        0      7.4           NaN  \n",
       "4                     6        0      7.0           NaN  "
      ]
     },
     "execution_count": 86,
     "metadata": {},
     "output_type": "execute_result"
    }
   ],
   "source": [
    "df3.head()"
   ]
  },
  {
   "cell_type": "code",
   "execution_count": 87,
   "id": "2845d3fa",
   "metadata": {},
   "outputs": [],
   "source": [
    "df3.to_csv('final_dataset_v3.csv', index=False)"
   ]
  },
  {
   "cell_type": "code",
   "execution_count": 52,
   "id": "7c3e6d56",
   "metadata": {},
   "outputs": [
    {
     "name": "stdout",
     "output_type": "stream",
     "text": [
      "Collecting xgboost\n",
      "  Downloading xgboost-2.1.4-py3-none-win_amd64.whl (124.9 MB)\n",
      "     ------------------------------------- 124.9/124.9 MB 11.3 MB/s eta 0:00:00\n",
      "Requirement already satisfied: numpy in c:\\users\\apoor\\anaconda3\\lib\\site-packages (from xgboost) (1.21.5)\n",
      "Requirement already satisfied: scipy in c:\\users\\apoor\\anaconda3\\lib\\site-packages (from xgboost) (1.9.1)\n",
      "Installing collected packages: xgboost\n",
      "Successfully installed xgboost-2.1.4\n"
     ]
    },
    {
     "name": "stderr",
     "output_type": "stream",
     "text": [
      "WARNING: Retrying (Retry(total=4, connect=None, read=None, redirect=None, status=None)) after connection broken by 'ProtocolError('Connection aborted.', ConnectionResetError(10054, 'An existing connection was forcibly closed by the remote host', None, 10054, None))': /simple/xgboost/\n"
     ]
    }
   ],
   "source": [
    "!pip install xgboost"
   ]
  },
  {
   "cell_type": "code",
   "execution_count": 88,
   "id": "0c13a7d4",
   "metadata": {},
   "outputs": [],
   "source": [
    "from sklearn.model_selection import train_test_split\n",
    "from xgboost import XGBClassifier, XGBRegressor\n",
    "from sklearn.metrics import accuracy_score, mean_squared_error\n",
    "from sklearn.model_selection import GridSearchCV\n",
    "import pandas as pd\n",
    "import numpy as np\n",
    "\n",
    "# 1. Encode target for classification\n",
    "df2['hospitaldischargestatus_binary'] = df2['hospitaldischargestatus'].map({'Alive': 0, 'Expired': 1})\n",
    "\n",
    "# 2. Features and targets\n",
    "features = [col for col in df2.columns if col not in ['hospitaldischargestatus', 'hospitaldischargestatus_binary']]\n",
    "\n",
    "X = df2[features]\n",
    "y_classification = df2['hospitaldischargestatus_binary']\n",
    "##y_regression = np.log1p(df2['los_minutes'])\n",
    "\n",
    "# 3. One-hot encode BEFORE splitting\n",
    "X = pd.get_dummies(X, drop_first=True)\n"
   ]
  },
  {
   "cell_type": "code",
   "execution_count": 89,
   "id": "4698c0d0",
   "metadata": {},
   "outputs": [],
   "source": [
    "###MODEL 1 \n",
    "\n",
    "from sklearn.model_selection import train_test_split\n",
    "X_train, X_test, y_train, y_test = train_test_split(X, y_classification, test_size=0.2, random_state=42)\n"
   ]
  },
  {
   "cell_type": "code",
   "execution_count": 90,
   "id": "29499242",
   "metadata": {},
   "outputs": [
    {
     "data": {
      "text/plain": [
       "1224"
      ]
     },
     "execution_count": 90,
     "metadata": {},
     "output_type": "execute_result"
    }
   ],
   "source": [
    "X_train.isna().any(axis=1).sum()\n"
   ]
  },
  {
   "cell_type": "code",
   "execution_count": 91,
   "id": "416a0d15",
   "metadata": {},
   "outputs": [
    {
     "name": "stderr",
     "output_type": "stream",
     "text": [
      "C:\\Users\\apoor\\anaconda3\\lib\\site-packages\\xgboost\\core.py:158: UserWarning: [10:14:40] WARNING: C:\\buildkite-agent\\builds\\buildkite-windows-cpu-autoscaling-group-i-08cbc0333d8d4aae1-1\\xgboost\\xgboost-ci-windows\\src\\learner.cc:740: \n",
      "Parameters: { \"use_label_encoder\" } are not used.\n",
      "\n",
      "  warnings.warn(smsg, UserWarning)\n",
      "C:\\Users\\apoor\\anaconda3\\lib\\site-packages\\xgboost\\core.py:158: UserWarning: [10:14:40] WARNING: C:\\buildkite-agent\\builds\\buildkite-windows-cpu-autoscaling-group-i-08cbc0333d8d4aae1-1\\xgboost\\xgboost-ci-windows\\src\\learner.cc:740: \n",
      "Parameters: { \"use_label_encoder\" } are not used.\n",
      "\n",
      "  warnings.warn(smsg, UserWarning)\n",
      "C:\\Users\\apoor\\anaconda3\\lib\\site-packages\\xgboost\\core.py:158: UserWarning: [10:14:40] WARNING: C:\\buildkite-agent\\builds\\buildkite-windows-cpu-autoscaling-group-i-08cbc0333d8d4aae1-1\\xgboost\\xgboost-ci-windows\\src\\learner.cc:740: \n",
      "Parameters: { \"use_label_encoder\" } are not used.\n",
      "\n",
      "  warnings.warn(smsg, UserWarning)\n",
      "C:\\Users\\apoor\\anaconda3\\lib\\site-packages\\xgboost\\core.py:158: UserWarning: [10:14:40] WARNING: C:\\buildkite-agent\\builds\\buildkite-windows-cpu-autoscaling-group-i-08cbc0333d8d4aae1-1\\xgboost\\xgboost-ci-windows\\src\\learner.cc:740: \n",
      "Parameters: { \"use_label_encoder\" } are not used.\n",
      "\n",
      "  warnings.warn(smsg, UserWarning)\n",
      "C:\\Users\\apoor\\anaconda3\\lib\\site-packages\\xgboost\\core.py:158: UserWarning: [10:14:41] WARNING: C:\\buildkite-agent\\builds\\buildkite-windows-cpu-autoscaling-group-i-08cbc0333d8d4aae1-1\\xgboost\\xgboost-ci-windows\\src\\learner.cc:740: \n",
      "Parameters: { \"use_label_encoder\" } are not used.\n",
      "\n",
      "  warnings.warn(smsg, UserWarning)\n",
      "C:\\Users\\apoor\\anaconda3\\lib\\site-packages\\xgboost\\core.py:158: UserWarning: [10:14:41] WARNING: C:\\buildkite-agent\\builds\\buildkite-windows-cpu-autoscaling-group-i-08cbc0333d8d4aae1-1\\xgboost\\xgboost-ci-windows\\src\\learner.cc:740: \n",
      "Parameters: { \"use_label_encoder\" } are not used.\n",
      "\n",
      "  warnings.warn(smsg, UserWarning)\n",
      "C:\\Users\\apoor\\anaconda3\\lib\\site-packages\\xgboost\\core.py:158: UserWarning: [10:14:42] WARNING: C:\\buildkite-agent\\builds\\buildkite-windows-cpu-autoscaling-group-i-08cbc0333d8d4aae1-1\\xgboost\\xgboost-ci-windows\\src\\learner.cc:740: \n",
      "Parameters: { \"use_label_encoder\" } are not used.\n",
      "\n",
      "  warnings.warn(smsg, UserWarning)\n",
      "C:\\Users\\apoor\\anaconda3\\lib\\site-packages\\xgboost\\core.py:158: UserWarning: [10:14:42] WARNING: C:\\buildkite-agent\\builds\\buildkite-windows-cpu-autoscaling-group-i-08cbc0333d8d4aae1-1\\xgboost\\xgboost-ci-windows\\src\\learner.cc:740: \n",
      "Parameters: { \"use_label_encoder\" } are not used.\n",
      "\n",
      "  warnings.warn(smsg, UserWarning)\n",
      "C:\\Users\\apoor\\anaconda3\\lib\\site-packages\\xgboost\\core.py:158: UserWarning: [10:14:42] WARNING: C:\\buildkite-agent\\builds\\buildkite-windows-cpu-autoscaling-group-i-08cbc0333d8d4aae1-1\\xgboost\\xgboost-ci-windows\\src\\learner.cc:740: \n",
      "Parameters: { \"use_label_encoder\" } are not used.\n",
      "\n",
      "  warnings.warn(smsg, UserWarning)\n",
      "C:\\Users\\apoor\\anaconda3\\lib\\site-packages\\xgboost\\core.py:158: UserWarning: [10:14:42] WARNING: C:\\buildkite-agent\\builds\\buildkite-windows-cpu-autoscaling-group-i-08cbc0333d8d4aae1-1\\xgboost\\xgboost-ci-windows\\src\\learner.cc:740: \n",
      "Parameters: { \"use_label_encoder\" } are not used.\n",
      "\n",
      "  warnings.warn(smsg, UserWarning)\n",
      "C:\\Users\\apoor\\anaconda3\\lib\\site-packages\\xgboost\\core.py:158: UserWarning: [10:14:43] WARNING: C:\\buildkite-agent\\builds\\buildkite-windows-cpu-autoscaling-group-i-08cbc0333d8d4aae1-1\\xgboost\\xgboost-ci-windows\\src\\learner.cc:740: \n",
      "Parameters: { \"use_label_encoder\" } are not used.\n",
      "\n",
      "  warnings.warn(smsg, UserWarning)\n",
      "C:\\Users\\apoor\\anaconda3\\lib\\site-packages\\xgboost\\core.py:158: UserWarning: [10:14:43] WARNING: C:\\buildkite-agent\\builds\\buildkite-windows-cpu-autoscaling-group-i-08cbc0333d8d4aae1-1\\xgboost\\xgboost-ci-windows\\src\\learner.cc:740: \n",
      "Parameters: { \"use_label_encoder\" } are not used.\n",
      "\n",
      "  warnings.warn(smsg, UserWarning)\n",
      "C:\\Users\\apoor\\anaconda3\\lib\\site-packages\\xgboost\\core.py:158: UserWarning: [10:14:44] WARNING: C:\\buildkite-agent\\builds\\buildkite-windows-cpu-autoscaling-group-i-08cbc0333d8d4aae1-1\\xgboost\\xgboost-ci-windows\\src\\learner.cc:740: \n",
      "Parameters: { \"use_label_encoder\" } are not used.\n",
      "\n",
      "  warnings.warn(smsg, UserWarning)\n",
      "C:\\Users\\apoor\\anaconda3\\lib\\site-packages\\xgboost\\core.py:158: UserWarning: [10:14:44] WARNING: C:\\buildkite-agent\\builds\\buildkite-windows-cpu-autoscaling-group-i-08cbc0333d8d4aae1-1\\xgboost\\xgboost-ci-windows\\src\\learner.cc:740: \n",
      "Parameters: { \"use_label_encoder\" } are not used.\n",
      "\n",
      "  warnings.warn(smsg, UserWarning)\n",
      "C:\\Users\\apoor\\anaconda3\\lib\\site-packages\\xgboost\\core.py:158: UserWarning: [10:14:45] WARNING: C:\\buildkite-agent\\builds\\buildkite-windows-cpu-autoscaling-group-i-08cbc0333d8d4aae1-1\\xgboost\\xgboost-ci-windows\\src\\learner.cc:740: \n",
      "Parameters: { \"use_label_encoder\" } are not used.\n",
      "\n",
      "  warnings.warn(smsg, UserWarning)\n",
      "C:\\Users\\apoor\\anaconda3\\lib\\site-packages\\xgboost\\core.py:158: UserWarning: [10:14:45] WARNING: C:\\buildkite-agent\\builds\\buildkite-windows-cpu-autoscaling-group-i-08cbc0333d8d4aae1-1\\xgboost\\xgboost-ci-windows\\src\\learner.cc:740: \n",
      "Parameters: { \"use_label_encoder\" } are not used.\n",
      "\n",
      "  warnings.warn(smsg, UserWarning)\n",
      "C:\\Users\\apoor\\anaconda3\\lib\\site-packages\\xgboost\\core.py:158: UserWarning: [10:14:46] WARNING: C:\\buildkite-agent\\builds\\buildkite-windows-cpu-autoscaling-group-i-08cbc0333d8d4aae1-1\\xgboost\\xgboost-ci-windows\\src\\learner.cc:740: \n",
      "Parameters: { \"use_label_encoder\" } are not used.\n",
      "\n",
      "  warnings.warn(smsg, UserWarning)\n",
      "C:\\Users\\apoor\\anaconda3\\lib\\site-packages\\xgboost\\core.py:158: UserWarning: [10:14:46] WARNING: C:\\buildkite-agent\\builds\\buildkite-windows-cpu-autoscaling-group-i-08cbc0333d8d4aae1-1\\xgboost\\xgboost-ci-windows\\src\\learner.cc:740: \n",
      "Parameters: { \"use_label_encoder\" } are not used.\n",
      "\n",
      "  warnings.warn(smsg, UserWarning)\n",
      "C:\\Users\\apoor\\anaconda3\\lib\\site-packages\\xgboost\\core.py:158: UserWarning: [10:14:47] WARNING: C:\\buildkite-agent\\builds\\buildkite-windows-cpu-autoscaling-group-i-08cbc0333d8d4aae1-1\\xgboost\\xgboost-ci-windows\\src\\learner.cc:740: \n",
      "Parameters: { \"use_label_encoder\" } are not used.\n",
      "\n",
      "  warnings.warn(smsg, UserWarning)\n",
      "C:\\Users\\apoor\\anaconda3\\lib\\site-packages\\xgboost\\core.py:158: UserWarning: [10:14:47] WARNING: C:\\buildkite-agent\\builds\\buildkite-windows-cpu-autoscaling-group-i-08cbc0333d8d4aae1-1\\xgboost\\xgboost-ci-windows\\src\\learner.cc:740: \n",
      "Parameters: { \"use_label_encoder\" } are not used.\n",
      "\n",
      "  warnings.warn(smsg, UserWarning)\n",
      "C:\\Users\\apoor\\anaconda3\\lib\\site-packages\\xgboost\\core.py:158: UserWarning: [10:14:48] WARNING: C:\\buildkite-agent\\builds\\buildkite-windows-cpu-autoscaling-group-i-08cbc0333d8d4aae1-1\\xgboost\\xgboost-ci-windows\\src\\learner.cc:740: \n",
      "Parameters: { \"use_label_encoder\" } are not used.\n",
      "\n",
      "  warnings.warn(smsg, UserWarning)\n",
      "C:\\Users\\apoor\\anaconda3\\lib\\site-packages\\xgboost\\core.py:158: UserWarning: [10:14:48] WARNING: C:\\buildkite-agent\\builds\\buildkite-windows-cpu-autoscaling-group-i-08cbc0333d8d4aae1-1\\xgboost\\xgboost-ci-windows\\src\\learner.cc:740: \n",
      "Parameters: { \"use_label_encoder\" } are not used.\n",
      "\n",
      "  warnings.warn(smsg, UserWarning)\n",
      "C:\\Users\\apoor\\anaconda3\\lib\\site-packages\\xgboost\\core.py:158: UserWarning: [10:14:48] WARNING: C:\\buildkite-agent\\builds\\buildkite-windows-cpu-autoscaling-group-i-08cbc0333d8d4aae1-1\\xgboost\\xgboost-ci-windows\\src\\learner.cc:740: \n",
      "Parameters: { \"use_label_encoder\" } are not used.\n",
      "\n",
      "  warnings.warn(smsg, UserWarning)\n",
      "C:\\Users\\apoor\\anaconda3\\lib\\site-packages\\xgboost\\core.py:158: UserWarning: [10:14:49] WARNING: C:\\buildkite-agent\\builds\\buildkite-windows-cpu-autoscaling-group-i-08cbc0333d8d4aae1-1\\xgboost\\xgboost-ci-windows\\src\\learner.cc:740: \n",
      "Parameters: { \"use_label_encoder\" } are not used.\n",
      "\n",
      "  warnings.warn(smsg, UserWarning)\n",
      "C:\\Users\\apoor\\anaconda3\\lib\\site-packages\\xgboost\\core.py:158: UserWarning: [10:14:49] WARNING: C:\\buildkite-agent\\builds\\buildkite-windows-cpu-autoscaling-group-i-08cbc0333d8d4aae1-1\\xgboost\\xgboost-ci-windows\\src\\learner.cc:740: \n",
      "Parameters: { \"use_label_encoder\" } are not used.\n",
      "\n",
      "  warnings.warn(smsg, UserWarning)\n",
      "C:\\Users\\apoor\\anaconda3\\lib\\site-packages\\xgboost\\core.py:158: UserWarning: [10:14:49] WARNING: C:\\buildkite-agent\\builds\\buildkite-windows-cpu-autoscaling-group-i-08cbc0333d8d4aae1-1\\xgboost\\xgboost-ci-windows\\src\\learner.cc:740: \n",
      "Parameters: { \"use_label_encoder\" } are not used.\n",
      "\n",
      "  warnings.warn(smsg, UserWarning)\n",
      "C:\\Users\\apoor\\anaconda3\\lib\\site-packages\\xgboost\\core.py:158: UserWarning: [10:14:50] WARNING: C:\\buildkite-agent\\builds\\buildkite-windows-cpu-autoscaling-group-i-08cbc0333d8d4aae1-1\\xgboost\\xgboost-ci-windows\\src\\learner.cc:740: \n",
      "Parameters: { \"use_label_encoder\" } are not used.\n",
      "\n",
      "  warnings.warn(smsg, UserWarning)\n",
      "C:\\Users\\apoor\\anaconda3\\lib\\site-packages\\xgboost\\core.py:158: UserWarning: [10:14:50] WARNING: C:\\buildkite-agent\\builds\\buildkite-windows-cpu-autoscaling-group-i-08cbc0333d8d4aae1-1\\xgboost\\xgboost-ci-windows\\src\\learner.cc:740: \n",
      "Parameters: { \"use_label_encoder\" } are not used.\n",
      "\n",
      "  warnings.warn(smsg, UserWarning)\n",
      "C:\\Users\\apoor\\anaconda3\\lib\\site-packages\\xgboost\\core.py:158: UserWarning: [10:14:50] WARNING: C:\\buildkite-agent\\builds\\buildkite-windows-cpu-autoscaling-group-i-08cbc0333d8d4aae1-1\\xgboost\\xgboost-ci-windows\\src\\learner.cc:740: \n",
      "Parameters: { \"use_label_encoder\" } are not used.\n",
      "\n",
      "  warnings.warn(smsg, UserWarning)\n",
      "C:\\Users\\apoor\\anaconda3\\lib\\site-packages\\xgboost\\core.py:158: UserWarning: [10:14:51] WARNING: C:\\buildkite-agent\\builds\\buildkite-windows-cpu-autoscaling-group-i-08cbc0333d8d4aae1-1\\xgboost\\xgboost-ci-windows\\src\\learner.cc:740: \n",
      "Parameters: { \"use_label_encoder\" } are not used.\n",
      "\n",
      "  warnings.warn(smsg, UserWarning)\n",
      "C:\\Users\\apoor\\anaconda3\\lib\\site-packages\\xgboost\\core.py:158: UserWarning: [10:14:52] WARNING: C:\\buildkite-agent\\builds\\buildkite-windows-cpu-autoscaling-group-i-08cbc0333d8d4aae1-1\\xgboost\\xgboost-ci-windows\\src\\learner.cc:740: \n",
      "Parameters: { \"use_label_encoder\" } are not used.\n",
      "\n",
      "  warnings.warn(smsg, UserWarning)\n",
      "C:\\Users\\apoor\\anaconda3\\lib\\site-packages\\xgboost\\core.py:158: UserWarning: [10:14:52] WARNING: C:\\buildkite-agent\\builds\\buildkite-windows-cpu-autoscaling-group-i-08cbc0333d8d4aae1-1\\xgboost\\xgboost-ci-windows\\src\\learner.cc:740: \n",
      "Parameters: { \"use_label_encoder\" } are not used.\n",
      "\n",
      "  warnings.warn(smsg, UserWarning)\n",
      "C:\\Users\\apoor\\anaconda3\\lib\\site-packages\\xgboost\\core.py:158: UserWarning: [10:14:52] WARNING: C:\\buildkite-agent\\builds\\buildkite-windows-cpu-autoscaling-group-i-08cbc0333d8d4aae1-1\\xgboost\\xgboost-ci-windows\\src\\learner.cc:740: \n",
      "Parameters: { \"use_label_encoder\" } are not used.\n",
      "\n",
      "  warnings.warn(smsg, UserWarning)\n",
      "C:\\Users\\apoor\\anaconda3\\lib\\site-packages\\xgboost\\core.py:158: UserWarning: [10:14:53] WARNING: C:\\buildkite-agent\\builds\\buildkite-windows-cpu-autoscaling-group-i-08cbc0333d8d4aae1-1\\xgboost\\xgboost-ci-windows\\src\\learner.cc:740: \n",
      "Parameters: { \"use_label_encoder\" } are not used.\n",
      "\n",
      "  warnings.warn(smsg, UserWarning)\n",
      "C:\\Users\\apoor\\anaconda3\\lib\\site-packages\\xgboost\\core.py:158: UserWarning: [10:14:53] WARNING: C:\\buildkite-agent\\builds\\buildkite-windows-cpu-autoscaling-group-i-08cbc0333d8d4aae1-1\\xgboost\\xgboost-ci-windows\\src\\learner.cc:740: \n",
      "Parameters: { \"use_label_encoder\" } are not used.\n",
      "\n",
      "  warnings.warn(smsg, UserWarning)\n",
      "C:\\Users\\apoor\\anaconda3\\lib\\site-packages\\xgboost\\core.py:158: UserWarning: [10:14:54] WARNING: C:\\buildkite-agent\\builds\\buildkite-windows-cpu-autoscaling-group-i-08cbc0333d8d4aae1-1\\xgboost\\xgboost-ci-windows\\src\\learner.cc:740: \n",
      "Parameters: { \"use_label_encoder\" } are not used.\n",
      "\n",
      "  warnings.warn(smsg, UserWarning)\n",
      "C:\\Users\\apoor\\anaconda3\\lib\\site-packages\\xgboost\\core.py:158: UserWarning: [10:14:55] WARNING: C:\\buildkite-agent\\builds\\buildkite-windows-cpu-autoscaling-group-i-08cbc0333d8d4aae1-1\\xgboost\\xgboost-ci-windows\\src\\learner.cc:740: \n",
      "Parameters: { \"use_label_encoder\" } are not used.\n",
      "\n",
      "  warnings.warn(smsg, UserWarning)\n",
      "C:\\Users\\apoor\\anaconda3\\lib\\site-packages\\xgboost\\core.py:158: UserWarning: [10:14:55] WARNING: C:\\buildkite-agent\\builds\\buildkite-windows-cpu-autoscaling-group-i-08cbc0333d8d4aae1-1\\xgboost\\xgboost-ci-windows\\src\\learner.cc:740: \n",
      "Parameters: { \"use_label_encoder\" } are not used.\n",
      "\n",
      "  warnings.warn(smsg, UserWarning)\n",
      "C:\\Users\\apoor\\anaconda3\\lib\\site-packages\\xgboost\\core.py:158: UserWarning: [10:14:55] WARNING: C:\\buildkite-agent\\builds\\buildkite-windows-cpu-autoscaling-group-i-08cbc0333d8d4aae1-1\\xgboost\\xgboost-ci-windows\\src\\learner.cc:740: \n",
      "Parameters: { \"use_label_encoder\" } are not used.\n",
      "\n",
      "  warnings.warn(smsg, UserWarning)\n",
      "C:\\Users\\apoor\\anaconda3\\lib\\site-packages\\xgboost\\core.py:158: UserWarning: [10:14:55] WARNING: C:\\buildkite-agent\\builds\\buildkite-windows-cpu-autoscaling-group-i-08cbc0333d8d4aae1-1\\xgboost\\xgboost-ci-windows\\src\\learner.cc:740: \n",
      "Parameters: { \"use_label_encoder\" } are not used.\n",
      "\n",
      "  warnings.warn(smsg, UserWarning)\n",
      "C:\\Users\\apoor\\anaconda3\\lib\\site-packages\\xgboost\\core.py:158: UserWarning: [10:14:56] WARNING: C:\\buildkite-agent\\builds\\buildkite-windows-cpu-autoscaling-group-i-08cbc0333d8d4aae1-1\\xgboost\\xgboost-ci-windows\\src\\learner.cc:740: \n",
      "Parameters: { \"use_label_encoder\" } are not used.\n",
      "\n",
      "  warnings.warn(smsg, UserWarning)\n",
      "C:\\Users\\apoor\\anaconda3\\lib\\site-packages\\xgboost\\core.py:158: UserWarning: [10:14:56] WARNING: C:\\buildkite-agent\\builds\\buildkite-windows-cpu-autoscaling-group-i-08cbc0333d8d4aae1-1\\xgboost\\xgboost-ci-windows\\src\\learner.cc:740: \n",
      "Parameters: { \"use_label_encoder\" } are not used.\n",
      "\n",
      "  warnings.warn(smsg, UserWarning)\n",
      "C:\\Users\\apoor\\anaconda3\\lib\\site-packages\\xgboost\\core.py:158: UserWarning: [10:14:56] WARNING: C:\\buildkite-agent\\builds\\buildkite-windows-cpu-autoscaling-group-i-08cbc0333d8d4aae1-1\\xgboost\\xgboost-ci-windows\\src\\learner.cc:740: \n",
      "Parameters: { \"use_label_encoder\" } are not used.\n",
      "\n",
      "  warnings.warn(smsg, UserWarning)\n",
      "C:\\Users\\apoor\\anaconda3\\lib\\site-packages\\xgboost\\core.py:158: UserWarning: [10:14:57] WARNING: C:\\buildkite-agent\\builds\\buildkite-windows-cpu-autoscaling-group-i-08cbc0333d8d4aae1-1\\xgboost\\xgboost-ci-windows\\src\\learner.cc:740: \n",
      "Parameters: { \"use_label_encoder\" } are not used.\n",
      "\n",
      "  warnings.warn(smsg, UserWarning)\n",
      "C:\\Users\\apoor\\anaconda3\\lib\\site-packages\\xgboost\\core.py:158: UserWarning: [10:14:57] WARNING: C:\\buildkite-agent\\builds\\buildkite-windows-cpu-autoscaling-group-i-08cbc0333d8d4aae1-1\\xgboost\\xgboost-ci-windows\\src\\learner.cc:740: \n",
      "Parameters: { \"use_label_encoder\" } are not used.\n",
      "\n",
      "  warnings.warn(smsg, UserWarning)\n",
      "C:\\Users\\apoor\\anaconda3\\lib\\site-packages\\xgboost\\core.py:158: UserWarning: [10:14:57] WARNING: C:\\buildkite-agent\\builds\\buildkite-windows-cpu-autoscaling-group-i-08cbc0333d8d4aae1-1\\xgboost\\xgboost-ci-windows\\src\\learner.cc:740: \n",
      "Parameters: { \"use_label_encoder\" } are not used.\n",
      "\n",
      "  warnings.warn(smsg, UserWarning)\n",
      "C:\\Users\\apoor\\anaconda3\\lib\\site-packages\\xgboost\\core.py:158: UserWarning: [10:14:58] WARNING: C:\\buildkite-agent\\builds\\buildkite-windows-cpu-autoscaling-group-i-08cbc0333d8d4aae1-1\\xgboost\\xgboost-ci-windows\\src\\learner.cc:740: \n",
      "Parameters: { \"use_label_encoder\" } are not used.\n",
      "\n",
      "  warnings.warn(smsg, UserWarning)\n",
      "C:\\Users\\apoor\\anaconda3\\lib\\site-packages\\xgboost\\core.py:158: UserWarning: [10:14:58] WARNING: C:\\buildkite-agent\\builds\\buildkite-windows-cpu-autoscaling-group-i-08cbc0333d8d4aae1-1\\xgboost\\xgboost-ci-windows\\src\\learner.cc:740: \n",
      "Parameters: { \"use_label_encoder\" } are not used.\n",
      "\n",
      "  warnings.warn(smsg, UserWarning)\n",
      "C:\\Users\\apoor\\anaconda3\\lib\\site-packages\\xgboost\\core.py:158: UserWarning: [10:14:59] WARNING: C:\\buildkite-agent\\builds\\buildkite-windows-cpu-autoscaling-group-i-08cbc0333d8d4aae1-1\\xgboost\\xgboost-ci-windows\\src\\learner.cc:740: \n",
      "Parameters: { \"use_label_encoder\" } are not used.\n",
      "\n",
      "  warnings.warn(smsg, UserWarning)\n",
      "C:\\Users\\apoor\\anaconda3\\lib\\site-packages\\xgboost\\core.py:158: UserWarning: [10:14:59] WARNING: C:\\buildkite-agent\\builds\\buildkite-windows-cpu-autoscaling-group-i-08cbc0333d8d4aae1-1\\xgboost\\xgboost-ci-windows\\src\\learner.cc:740: \n",
      "Parameters: { \"use_label_encoder\" } are not used.\n",
      "\n",
      "  warnings.warn(smsg, UserWarning)\n",
      "C:\\Users\\apoor\\anaconda3\\lib\\site-packages\\xgboost\\core.py:158: UserWarning: [10:14:59] WARNING: C:\\buildkite-agent\\builds\\buildkite-windows-cpu-autoscaling-group-i-08cbc0333d8d4aae1-1\\xgboost\\xgboost-ci-windows\\src\\learner.cc:740: \n",
      "Parameters: { \"use_label_encoder\" } are not used.\n",
      "\n",
      "  warnings.warn(smsg, UserWarning)\n",
      "C:\\Users\\apoor\\anaconda3\\lib\\site-packages\\xgboost\\core.py:158: UserWarning: [10:15:00] WARNING: C:\\buildkite-agent\\builds\\buildkite-windows-cpu-autoscaling-group-i-08cbc0333d8d4aae1-1\\xgboost\\xgboost-ci-windows\\src\\learner.cc:740: \n",
      "Parameters: { \"use_label_encoder\" } are not used.\n",
      "\n",
      "  warnings.warn(smsg, UserWarning)\n",
      "C:\\Users\\apoor\\anaconda3\\lib\\site-packages\\xgboost\\core.py:158: UserWarning: [10:15:00] WARNING: C:\\buildkite-agent\\builds\\buildkite-windows-cpu-autoscaling-group-i-08cbc0333d8d4aae1-1\\xgboost\\xgboost-ci-windows\\src\\learner.cc:740: \n",
      "Parameters: { \"use_label_encoder\" } are not used.\n",
      "\n",
      "  warnings.warn(smsg, UserWarning)\n",
      "C:\\Users\\apoor\\anaconda3\\lib\\site-packages\\xgboost\\core.py:158: UserWarning: [10:15:01] WARNING: C:\\buildkite-agent\\builds\\buildkite-windows-cpu-autoscaling-group-i-08cbc0333d8d4aae1-1\\xgboost\\xgboost-ci-windows\\src\\learner.cc:740: \n",
      "Parameters: { \"use_label_encoder\" } are not used.\n",
      "\n",
      "  warnings.warn(smsg, UserWarning)\n",
      "C:\\Users\\apoor\\anaconda3\\lib\\site-packages\\xgboost\\core.py:158: UserWarning: [10:15:02] WARNING: C:\\buildkite-agent\\builds\\buildkite-windows-cpu-autoscaling-group-i-08cbc0333d8d4aae1-1\\xgboost\\xgboost-ci-windows\\src\\learner.cc:740: \n",
      "Parameters: { \"use_label_encoder\" } are not used.\n",
      "\n",
      "  warnings.warn(smsg, UserWarning)\n"
     ]
    }
   ],
   "source": [
    "# Drop rows in X_train and y_train that have NaNs\n",
    "X_train_clean = X_train.dropna()\n",
    "y_train_clean = y_train.loc[X_train_clean.index]\n",
    "\n",
    "param_grid = {\n",
    "    'max_depth': [3, 5, 7],\n",
    "    'learning_rate': [0.01, 0.1, 0.2],\n",
    "    'n_estimators': [100, 200]\n",
    "}\n",
    "\n",
    "grid_search = GridSearchCV(XGBClassifier(use_label_encoder=False, eval_metric='logloss'), param_grid, cv=3, scoring='accuracy')\n",
    "grid_search.fit(X_train_clean, y_train_clean)\n",
    "\n",
    "best_model = grid_search.best_estimator_\n"
   ]
  },
  {
   "cell_type": "code",
   "execution_count": 92,
   "id": "51518747",
   "metadata": {},
   "outputs": [
    {
     "data": {
      "text/plain": [
       "304"
      ]
     },
     "execution_count": 92,
     "metadata": {},
     "output_type": "execute_result"
    }
   ],
   "source": [
    "X_test.isna().any(axis=1).sum()\n"
   ]
  },
  {
   "cell_type": "code",
   "execution_count": 93,
   "id": "0cc14ba0",
   "metadata": {},
   "outputs": [
    {
     "data": {
      "text/plain": [
       "0"
      ]
     },
     "execution_count": 93,
     "metadata": {},
     "output_type": "execute_result"
    }
   ],
   "source": [
    "y_test.isna().sum()\n"
   ]
  },
  {
   "cell_type": "code",
   "execution_count": 94,
   "id": "ccacf6a9",
   "metadata": {},
   "outputs": [
    {
     "name": "stdout",
     "output_type": "stream",
     "text": [
      "Test Accuracy: 0.8375451263537906\n"
     ]
    }
   ],
   "source": [
    "# Drop rows in X_test that have NaNs\n",
    "X_test_clean = X_test.dropna()\n",
    "y_test_clean = y_test.loc[X_test_clean.index]\n",
    "\n",
    "# Now predict\n",
    "y_pred = best_model.predict(X_test_clean)\n",
    "print(\"Test Accuracy:\", accuracy_score(y_test_clean, y_pred))\n",
    "\n"
   ]
  },
  {
   "cell_type": "code",
   "execution_count": 95,
   "id": "c2afa1f5",
   "metadata": {},
   "outputs": [
    {
     "name": "stdout",
     "output_type": "stream",
     "text": [
      "[0 1]\n"
     ]
    }
   ],
   "source": [
    "# First, check unique values\n",
    "print(y_classification.unique())\n"
   ]
  },
  {
   "cell_type": "code",
   "execution_count": 96,
   "id": "9289f703",
   "metadata": {},
   "outputs": [
    {
     "name": "stderr",
     "output_type": "stream",
     "text": [
      "C:\\Users\\apoor\\anaconda3\\lib\\site-packages\\xgboost\\core.py:158: UserWarning: [10:15:04] WARNING: C:\\buildkite-agent\\builds\\buildkite-windows-cpu-autoscaling-group-i-08cbc0333d8d4aae1-1\\xgboost\\xgboost-ci-windows\\src\\learner.cc:740: \n",
      "Parameters: { \"use_label_encoder\" } are not used.\n",
      "\n",
      "  warnings.warn(smsg, UserWarning)\n"
     ]
    },
    {
     "data": {
      "text/plain": [
       "XGBClassifier(base_score=None, booster=None, callbacks=None,\n",
       "              colsample_bylevel=None, colsample_bynode=None,\n",
       "              colsample_bytree=None, device=None, early_stopping_rounds=None,\n",
       "              enable_categorical=False, eval_metric='logloss',\n",
       "              feature_types=None, gamma=None, grow_policy=None,\n",
       "              importance_type=None, interaction_constraints=None,\n",
       "              learning_rate=0.1, max_bin=None, max_cat_threshold=None,\n",
       "              max_cat_to_onehot=None, max_delta_step=None, max_depth=3,\n",
       "              max_leaves=None, min_child_weight=None, missing=nan,\n",
       "              monotone_constraints=None, multi_strategy=None, n_estimators=100,\n",
       "              n_jobs=None, num_parallel_tree=None, random_state=None, ...)"
      ]
     },
     "execution_count": 96,
     "metadata": {},
     "output_type": "execute_result"
    }
   ],
   "source": [
    "# 1. Drop NaNs\n",
    "mask = y_classification.notna()\n",
    "X_clean = X.loc[mask]\n",
    "y_classification_clean = y_classification.loc[mask]\n",
    "\n",
    "# 2. Convert to integers\n",
    "y_classification_clean = y_classification_clean.astype(int)\n",
    "\n",
    "\n",
    "final_model = XGBClassifier(**grid_search.best_params_, use_label_encoder=False, eval_metric='logloss')\n",
    "final_model.fit(X_clean, y_classification_clean)\n",
    "\n"
   ]
  },
  {
   "cell_type": "code",
   "execution_count": 101,
   "id": "3a497440",
   "metadata": {},
   "outputs": [],
   "source": [
    "import shap\n",
    "\n",
    "# Create SHAP explainer\n",
    "explainer = shap.Explainer(final_model, X_clean)\n",
    "\n",
    "# Calculate SHAP values\n",
    "shap_values = explainer(X_clean)\n"
   ]
  },
  {
   "cell_type": "code",
   "execution_count": 103,
   "id": "73c08ac8",
   "metadata": {},
   "outputs": [
    {
     "name": "stdout",
     "output_type": "stream",
     "text": [
      "Mean SHAP value for auc_change: -0.010535\n"
     ]
    }
   ],
   "source": [
    "# Get mean SHAP value for auc_change\n",
    "mean_shap_auc_change = shap_values.values[:, list(X_clean.columns).index('auc_change')].mean()\n",
    "\n",
    "print(f\"Mean SHAP value for auc_change: {mean_shap_auc_change:.6f}\")\n"
   ]
  },
  {
   "cell_type": "code",
   "execution_count": 97,
   "id": "12d73e1b",
   "metadata": {},
   "outputs": [
    {
     "data": {
      "image/png": "[encoded data removed]",
      "text/plain": [
       "<Figure size 640x480 with 1 Axes>"
      ]
     },
     "metadata": {},
     "output_type": "display_data"
    }
   ],
   "source": [
    "import matplotlib.pyplot as plt\n",
    "\n",
    "importance = final_model.feature_importances_\n",
    "feat_importance = pd.Series(importance, index=X.columns).sort_values(ascending=False)\n",
    "\n",
    "feat_importance.plot(kind='bar')\n",
    "plt.title('Feature Importance - Classification Model')\n",
    "plt.show()\n"
   ]
  },
  {
   "cell_type": "code",
   "execution_count": 100,
   "id": "07c8f6df",
   "metadata": {},
   "outputs": [
    {
     "name": "stdout",
     "output_type": "stream",
     "text": [
      "Warning: Maximum number of iterations has been exceeded.\n",
      "         Current function value: 0.397826\n",
      "         Iterations: 35\n",
      "                                 Logit Regression Results                                 \n",
      "==========================================================================================\n",
      "Dep. Variable:     hospitaldischargestatus_binary   No. Observations:                 1376\n",
      "Model:                                      Logit   Df Residuals:                     1357\n",
      "Method:                                       MLE   Df Model:                           18\n",
      "Date:                            Sun, 27 Apr 2025   Pseudo R-squ.:                  0.1383\n",
      "Time:                                    10:17:13   Log-Likelihood:                -547.41\n",
      "converged:                                  False   LL-Null:                       -635.29\n",
      "Covariance Type:                        nonrobust   LLR p-value:                 6.619e-28\n",
      "=============================================================================================\n",
      "                                coef    std err          z      P>|z|      [0.025      0.975]\n",
      "---------------------------------------------------------------------------------------------\n",
      "const                        -1.2032      1.085     -1.109      0.267      -3.329       0.923\n",
      "age                           0.0050      0.007      0.761      0.446      -0.008       0.018\n",
      "apachescore                   0.0190      0.003      6.578      0.000       0.013       0.025\n",
      "chronically_hypoxic           0.1957      0.298      0.656      0.512      -0.389       0.780\n",
      "base_fio2                    -0.0089      0.010     -0.908      0.364      -0.028       0.010\n",
      "avg_sf_pre                   -0.0054      0.002     -2.699      0.007      -0.009      -0.001\n",
      "auc_change                   -0.0003   9.25e-05     -3.329      0.001      -0.000      -0.000\n",
      "sepsis                        0.2738      0.160      1.714      0.087      -0.039       0.587\n",
      "final_charlson_score          0.0209      0.032      0.644      0.519      -0.043       0.085\n",
      "vaso_yn                       0.4139      0.190      2.177      0.029       0.041       0.787\n",
      "base_hb                      -0.1169      0.061     -1.907      0.057      -0.237       0.003\n",
      "base_lactate                  0.1373      0.033      4.214      0.000       0.073       0.201\n",
      "ethnicity_Asian              -0.4962      0.747     -0.664      0.507      -1.961       0.968\n",
      "ethnicity_Caucasian          -0.1266      0.223     -0.566      0.571      -0.565       0.311\n",
      "ethnicity_Hispanic           -0.2956      0.377     -0.785      0.433      -1.034       0.443\n",
      "ethnicity_Native American   -18.5671   6949.780     -0.003      0.998   -1.36e+04    1.36e+04\n",
      "ethnicity_None                0.1472      1.113      0.132      0.895      -2.033       2.328\n",
      "ethnicity_Other/Unknown      -0.7147      0.526     -1.357      0.175      -1.747       0.317\n",
      "gender_Male                   0.0827      0.155      0.533      0.594      -0.222       0.387\n",
      "=============================================================================================\n"
     ]
    },
    {
     "name": "stderr",
     "output_type": "stream",
     "text": [
      "C:\\Users\\apoor\\anaconda3\\lib\\site-packages\\statsmodels\\base\\model.py:604: ConvergenceWarning: Maximum Likelihood optimization failed to converge. Check mle_retvals\n",
      "  warnings.warn(\"Maximum Likelihood optimization failed to \"\n"
     ]
    }
   ],
   "source": [
    "import statsmodels.api as sm\n",
    "import pandas as pd\n",
    "\n",
    "# 1. Clean your data: remove rows with NaNs/Infs\n",
    "mask = (y_classification.notna()) & (~X.isna().any(axis=1)) & (~X.isin([np.inf, -np.inf]).any(axis=1))\n",
    "\n",
    "X_logreg = X.loc[mask]\n",
    "y_logreg = y_classification.loc[mask]\n",
    "\n",
    "# 2. Add constant (intercept term)\n",
    "X_logreg_const = sm.add_constant(X_logreg)\n",
    "\n",
    "# 3. Fit the logistic regression model\n",
    "logit_model = sm.Logit(y_logreg, X_logreg_const)\n",
    "logit_result = logit_model.fit()\n",
    "\n",
    "# 4. Print the full summary\n",
    "print(logit_result.summary())\n"
   ]
  },
  {
   "cell_type": "code",
   "execution_count": null,
   "id": "cf0d9c10",
   "metadata": {},
   "outputs": [],
   "source": [
    "##APPENDIX (EVERYTHING ELSE WE TRIED)"
   ]
  },
  {
   "cell_type": "code",
   "execution_count": 23,
   "id": "4b44f59f",
   "metadata": {},
   "outputs": [],
   "source": [
    "### MODEL 2 "
   ]
  },
  {
   "cell_type": "code",
   "execution_count": 24,
   "id": "2e87febc",
   "metadata": {},
   "outputs": [],
   "source": [
    "X_train_r, X_test_r, y_train_r, y_test_r = train_test_split(X, y_regression, test_size=0.2, random_state=42)\n"
   ]
  },
  {
   "cell_type": "code",
   "execution_count": 25,
   "id": "4e61f465",
   "metadata": {},
   "outputs": [],
   "source": [
    "param_grid_r = {\n",
    "    'max_depth': [3, 5, 7],\n",
    "    'learning_rate': [0.01, 0.1, 0.2],\n",
    "    'n_estimators': [100, 200]\n",
    "}\n",
    "\n",
    "grid_search_r = GridSearchCV(XGBRegressor(), param_grid_r, cv=3, scoring='neg_root_mean_squared_error')\n",
    "grid_search_r.fit(X_train_r, y_train_r)\n",
    "\n",
    "best_model_r = grid_search_r.best_estimator_\n"
   ]
  },
  {
   "cell_type": "code",
   "execution_count": 26,
   "id": "82c64e35",
   "metadata": {},
   "outputs": [
    {
     "name": "stdout",
     "output_type": "stream",
     "text": [
      "Test RMSE: 0.9397427450014478\n"
     ]
    }
   ],
   "source": [
    "y_pred_r = best_model_r.predict(X_test_r)\n",
    "print(\"Test RMSE:\", mean_squared_error(y_test_r, y_pred_r, squared=False))\n"
   ]
  },
  {
   "cell_type": "code",
   "execution_count": 27,
   "id": "4838b3e6",
   "metadata": {},
   "outputs": [
    {
     "data": {
      "text/plain": [
       "XGBRegressor(base_score=None, booster=None, callbacks=None,\n",
       "             colsample_bylevel=None, colsample_bynode=None,\n",
       "             colsample_bytree=None, device=None, early_stopping_rounds=None,\n",
       "             enable_categorical=False, eval_metric=None, feature_types=None,\n",
       "             gamma=None, grow_policy=None, importance_type=None,\n",
       "             interaction_constraints=None, learning_rate=0.01, max_bin=None,\n",
       "             max_cat_threshold=None, max_cat_to_onehot=None,\n",
       "             max_delta_step=None, max_depth=3, max_leaves=None,\n",
       "             min_child_weight=None, missing=nan, monotone_constraints=None,\n",
       "             multi_strategy=None, n_estimators=200, n_jobs=None,\n",
       "             num_parallel_tree=None, random_state=None, ...)"
      ]
     },
     "execution_count": 27,
     "metadata": {},
     "output_type": "execute_result"
    }
   ],
   "source": [
    "final_model_r = XGBRegressor(**grid_search_r.best_params_)\n",
    "final_model_r.fit(X, y_regression)\n"
   ]
  },
  {
   "cell_type": "code",
   "execution_count": 28,
   "id": "d1ba745d",
   "metadata": {},
   "outputs": [
    {
     "data": {
      "image/png": "[encoded data removed]",
      "text/plain": [
       "<Figure size 640x480 with 1 Axes>"
      ]
     },
     "metadata": {},
     "output_type": "display_data"
    }
   ],
   "source": [
    "importance_r = final_model_r.feature_importances_\n",
    "feat_importance_r = pd.Series(importance_r, index=X.columns).sort_values(ascending=False)\n",
    "\n",
    "feat_importance_r.plot(kind='bar')\n",
    "plt.title('Feature Importance - Regression Model')\n",
    "plt.show()\n"
   ]
  },
  {
   "cell_type": "code",
   "execution_count": 30,
   "id": "38aa15d9",
   "metadata": {},
   "outputs": [
    {
     "name": "stdout",
     "output_type": "stream",
     "text": [
      "Estimated % change in LOS: 0.1434%\n"
     ]
    },
    {
     "data": {
      "text/plain": [
       "'A 1-unit increase in delta_auc is associated with a 0.14% longer hospital stay (LOS), on average.'"
      ]
     },
     "execution_count": 30,
     "metadata": {},
     "output_type": "execute_result"
    }
   ],
   "source": [
    "\n",
    "import numpy as np\n",
    "\n",
    "mean_shap_value = 0.001433\n",
    "percent_change = np.expm1(mean_shap_value) * 100\n",
    "\n",
    "print(f\"Estimated % change in LOS: {percent_change:.4f}%\")\n",
    "\n",
    "\"A 1-unit increase in delta_auc is associated with a 0.14% longer hospital stay (LOS), on average.\""
   ]
  },
  {
   "cell_type": "code",
   "execution_count": 31,
   "id": "da3dcb29",
   "metadata": {},
   "outputs": [
    {
     "data": {
      "text/plain": [
       "17.049613337240014"
      ]
     },
     "execution_count": 31,
     "metadata": {},
     "output_type": "execute_result"
    }
   ],
   "source": [
    "df3['los_minutes'].skew()\n"
   ]
  },
  {
   "cell_type": "code",
   "execution_count": 32,
   "id": "2185fa32",
   "metadata": {},
   "outputs": [
    {
     "data": {
      "text/plain": [
       "-0.4959982094470419"
      ]
     },
     "execution_count": 32,
     "metadata": {},
     "output_type": "execute_result"
    }
   ],
   "source": [
    "import numpy as np\n",
    "\n",
    "# Take log (add 1 to avoid log(0) error)\n",
    "log_los = np.log1p(df3['los_minutes'])\n",
    "\n",
    "# Now check skewness\n",
    "log_los.skew()\n"
   ]
  },
  {
   "cell_type": "code",
   "execution_count": 98,
   "id": "ac107d37",
   "metadata": {},
   "outputs": [
    {
     "data": {
      "image/png": "[encoded data removed]",
      "text/plain": [
       "<Figure size 600x500 with 2 Axes>"
      ]
     },
     "metadata": {},
     "output_type": "display_data"
    }
   ],
   "source": [
    "#Exploring multicollinearity \n",
    "\n",
    "import seaborn as sns\n",
    "import matplotlib.pyplot as plt\n",
    "\n",
    "corr = X.corr()\n",
    "\n",
    "plt.figure(figsize=(6, 5))\n",
    "sns.heatmap(corr, cmap='coolwarm', center=0)\n",
    "plt.title('Correlation Heatmap')\n",
    "plt.show()\n"
   ]
  },
  {
   "cell_type": "code",
   "execution_count": 99,
   "id": "520fc1f9",
   "metadata": {},
   "outputs": [
    {
     "name": "stdout",
     "output_type": "stream",
     "text": [
      "                     variable       VIF\n",
      "3                   base_fio2  3.743376\n",
      "4                  avg_sf_pre  3.692460\n",
      "0                         age  1.724906\n",
      "7        final_charlson_score  1.676973\n",
      "12        ethnicity_Caucasian  1.603976\n",
      "13         ethnicity_Hispanic  1.367417\n",
      "1                 apachescore  1.291480\n",
      "16    ethnicity_Other/Unknown  1.189341\n",
      "6                      sepsis  1.112410\n",
      "10               base_lactate  1.112206\n",
      "11            ethnicity_Asian  1.083573\n",
      "5                  auc_change  1.081089\n",
      "9                     base_hb  1.080294\n",
      "8                     vaso_yn  1.051036\n",
      "2         chronically_hypoxic  1.047043\n",
      "14  ethnicity_Native American  1.033875\n",
      "15             ethnicity_None  1.033848\n",
      "17                gender_Male  1.011530\n"
     ]
    }
   ],
   "source": [
    "from statsmodels.tools.tools import add_constant\n",
    "from statsmodels.stats.outliers_influence import variance_inflation_factor\n",
    "import pandas as pd\n",
    "\n",
    "# Drop rows with NaN or Inf\n",
    "X_clean = X.dropna().replace([np.inf, -np.inf], np.nan).dropna()\n",
    "\n",
    "# Add constant\n",
    "X_vif = add_constant(X_clean)\n",
    "\n",
    "# Calculate VIF\n",
    "vif = pd.DataFrame()\n",
    "vif[\"variable\"] = X_clean.columns\n",
    "vif[\"VIF\"] = [variance_inflation_factor(X_vif.values, i+1) for i in range(len(X_clean.columns))]\n",
    "\n",
    "print(vif.sort_values('VIF', ascending=False))\n"
   ]
  },
  {
   "cell_type": "code",
   "execution_count": 39,
   "id": "153a1342",
   "metadata": {},
   "outputs": [
    {
     "name": "stdout",
     "output_type": "stream",
     "text": [
      "                            OLS Regression Results                            \n",
      "==============================================================================\n",
      "Dep. Variable:            los_minutes   R-squared:                       0.044\n",
      "Model:                            OLS   Adj. R-squared:                  0.040\n",
      "Method:                 Least Squares   F-statistic:                     9.508\n",
      "Date:                Sun, 27 Apr 2025   Prob (F-statistic):           2.69e-18\n",
      "Time:                        09:02:28   Log-Likelihood:                -3453.1\n",
      "No. Observations:                2464   AIC:                             6932.\n",
      "Df Residuals:                    2451   BIC:                             7008.\n",
      "Df Model:                          12                                         \n",
      "Covariance Type:            nonrobust                                         \n",
      "=============================================================================================\n",
      "                                coef    std err          t      P>|t|      [0.025      0.975]\n",
      "---------------------------------------------------------------------------------------------\n",
      "const                        10.9966      0.264     41.651      0.000      10.479      11.514\n",
      "age                          -0.0078      0.001     -5.792      0.000      -0.010      -0.005\n",
      "apachescore                   0.0009      0.001      1.065      0.287      -0.001       0.002\n",
      "chronically_hypoxic           0.0866      0.094      0.924      0.355      -0.097       0.270\n",
      "baseline_fio2                -0.0117      0.003     -4.052      0.000      -0.017      -0.006\n",
      "pre_trans_avg_sf             -0.0027      0.000     -5.552      0.000      -0.004      -0.002\n",
      "delta_auc                  7.536e-05   1.85e-05      4.070      0.000     3.9e-05       0.000\n",
      "ethnicity_Asian              -0.2381      0.180     -1.322      0.186      -0.591       0.115\n",
      "ethnicity_Caucasian          -0.2480      0.059     -4.182      0.000      -0.364      -0.132\n",
      "ethnicity_Hispanic           -0.0663      0.093     -0.713      0.476      -0.249       0.116\n",
      "ethnicity_Native American    -0.2949      0.302     -0.975      0.329      -0.888       0.298\n",
      "ethnicity_Other/Unknown      -0.1831      0.126     -1.454      0.146      -0.430       0.064\n",
      "gender_Male                  -0.0264      0.040     -0.663      0.508      -0.104       0.052\n",
      "==============================================================================\n",
      "Omnibus:                      168.727   Durbin-Watson:                   1.830\n",
      "Prob(Omnibus):                  0.000   Jarque-Bera (JB):              293.682\n",
      "Skew:                          -0.508   Prob(JB):                     1.69e-64\n",
      "Kurtosis:                       4.352   Cond. No.                     1.75e+04\n",
      "==============================================================================\n",
      "\n",
      "Notes:\n",
      "[1] Standard Errors assume that the covariance matrix of the errors is correctly specified.\n",
      "[2] The condition number is large, 1.75e+04. This might indicate that there are\n",
      "strong multicollinearity or other numerical problems.\n",
      "                                             feature       coef        p_value\n",
      "const                                          const  10.996631  3.561883e-287\n",
      "age                                              age  -0.007790   7.857172e-09\n",
      "pre_trans_avg_sf                    pre_trans_avg_sf  -0.002719   3.120320e-08\n",
      "ethnicity_Caucasian              ethnicity_Caucasian  -0.248021   2.991015e-05\n",
      "delta_auc                                  delta_auc   0.000075   4.858553e-05\n",
      "baseline_fio2                          baseline_fio2  -0.011715   5.231101e-05\n",
      "ethnicity_Other/Unknown      ethnicity_Other/Unknown  -0.183149   1.459997e-01\n",
      "ethnicity_Asian                      ethnicity_Asian  -0.238057   1.862978e-01\n",
      "apachescore                              apachescore   0.000855   2.867981e-01\n",
      "ethnicity_Native American  ethnicity_Native American  -0.294882   3.294736e-01\n",
      "chronically_hypoxic              chronically_hypoxic   0.086555   3.553475e-01\n",
      "ethnicity_Hispanic                ethnicity_Hispanic  -0.066310   4.761325e-01\n",
      "gender_Male                              gender_Male  -0.026362   5.076772e-01\n"
     ]
    }
   ],
   "source": [
    "import statsmodels.api as sm\n",
    "import pandas as pd\n",
    "import numpy as np\n",
    "\n",
    "# Step 1: Clean your X and y_regression first\n",
    "mask = (y_regression.notna()) & (~X.isna().any(axis=1)) & (~X.isin([np.inf, -np.inf]).any(axis=1))\n",
    "\n",
    "X_linreg = X.loc[mask]\n",
    "y_linreg = y_regression.loc[mask]\n",
    "\n",
    "# Step 2: Add a constant (intercept) term\n",
    "X_linreg_const = sm.add_constant(X_linreg)\n",
    "\n",
    "# Step 3: Fit the OLS (Ordinary Least Squares) Linear Regression\n",
    "linreg_model = sm.OLS(y_linreg, X_linreg_const)\n",
    "linreg_result = linreg_model.fit()\n",
    "\n",
    "# Step 4: Print the summary\n",
    "print(linreg_result.summary())\n",
    "\n",
    "# Step 5: Create a clean results table\n",
    "linreg_summary = pd.DataFrame({\n",
    "    'feature': X_linreg_const.columns,\n",
    "    'coef': linreg_result.params,\n",
    "    'p_value': linreg_result.pvalues\n",
    "}).sort_values('p_value')\n",
    "\n",
    "print(linreg_summary)\n"
   ]
  },
  {
   "cell_type": "code",
   "execution_count": 40,
   "id": "5e92152c",
   "metadata": {},
   "outputs": [
    {
     "name": "stdout",
     "output_type": "stream",
     "text": [
      "Linear Regression RMSE: 0.9826495673678647\n"
     ]
    }
   ],
   "source": [
    "from sklearn.metrics import mean_squared_error\n",
    "import numpy as np\n",
    "\n",
    "# Predict on the training data\n",
    "y_pred_linreg = linreg_result.predict(X_linreg_const)\n",
    "\n",
    "# Calculate RMSE\n",
    "rmse = mean_squared_error(y_linreg, y_pred_linreg, squared=False)\n",
    "\n",
    "print(\"Linear Regression RMSE:\", rmse)\n"
   ]
  }
 ],
 "metadata": {
  "kernelspec": {
   "display_name": "Python 3 (ipykernel)",
   "language": "python",
   "name": "python3"
  },
  "language_info": {
   "codemirror_mode": {
    "name": "ipython",
    "version": 3
   },
   "file_extension": ".py",
   "mimetype": "text/x-python",
   "name": "python",
   "nbconvert_exporter": "python",
   "pygments_lexer": "ipython3",
   "version": "3.9.13"
  }
 },
 "nbformat": 4,
 "nbformat_minor": 5
}
